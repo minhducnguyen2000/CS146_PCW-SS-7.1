{
 "cells": [
  {
   "cell_type": "code",
   "execution_count": 1,
   "metadata": {},
   "outputs": [],
   "source": [
    "import numpy as np\n",
    "import pandas as pd\n",
    "import scipy.stats as sts"
   ]
  },
  {
   "cell_type": "code",
   "execution_count": 26,
   "metadata": {},
   "outputs": [],
   "source": [
    "def confint_cal(size, prob, conf_level):\n",
    "    mu = prob\n",
    "    std = (size*prob*(1-prob))**.5/size\n",
    "\n",
    "    result = sts.norm.ppf(.5+conf_level/2,loc=mu,scale=std)-prob\n",
    "\n",
    "    return result\n",
    "\n",
    "sample_size = [1000, 750, 500, 250, 100]\n",
    "sample_prob = [0.1, 0.2, 0.3, 0.4, 0.5, 0.6, 0.7, 0.8, 0.9]\n",
    "\n",
    "results = np.zeros((len(sample_prob), len(sample_size)), float)\n",
    "\n",
    "for i, s in enumerate(sample_size):\n",
    "    for j, p in enumerate(sample_prob):\n",
    "        results[j][i] = round(confint_cal(size = s, prob = p, conf_level=.95)*100, 2)\n"
   ]
  },
  {
   "cell_type": "code",
   "execution_count": 27,
   "metadata": {},
   "outputs": [
    {
     "data": {
      "text/plain": [
       "array([[1.86, 2.15, 2.63, 3.72, 5.88],\n",
       "       [2.48, 2.86, 3.51, 4.96, 7.84],\n",
       "       [2.84, 3.28, 4.02, 5.68, 8.98],\n",
       "       [3.04, 3.51, 4.29, 6.07, 9.6 ],\n",
       "       [3.1 , 3.58, 4.38, 6.2 , 9.8 ],\n",
       "       [3.04, 3.51, 4.29, 6.07, 9.6 ],\n",
       "       [2.84, 3.28, 4.02, 5.68, 8.98],\n",
       "       [2.48, 2.86, 3.51, 4.96, 7.84],\n",
       "       [1.86, 2.15, 2.63, 3.72, 5.88]])"
      ]
     },
     "execution_count": 27,
     "metadata": {},
     "output_type": "execute_result"
    }
   ],
   "source": [
    "results"
   ]
  },
  {
   "cell_type": "code",
   "execution_count": null,
   "metadata": {},
   "outputs": [],
   "source": []
  }
 ],
 "metadata": {
  "kernelspec": {
   "display_name": "Python 3",
   "language": "python",
   "name": "python3"
  },
  "language_info": {
   "codemirror_mode": {
    "name": "ipython",
    "version": 3
   },
   "file_extension": ".py",
   "mimetype": "text/x-python",
   "name": "python",
   "nbconvert_exporter": "python",
   "pygments_lexer": "ipython3",
   "version": "3.7.3"
  }
 },
 "nbformat": 4,
 "nbformat_minor": 2
}
